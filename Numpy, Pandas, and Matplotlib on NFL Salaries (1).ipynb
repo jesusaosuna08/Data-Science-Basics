{
 "cells": [
  {
   "cell_type": "markdown",
   "metadata": {},
   "source": [
    "### Import Basic Libraries"
   ]
  },
  {
   "cell_type": "code",
   "execution_count": 1,
   "metadata": {},
   "outputs": [],
   "source": [
    "import numpy as np\n",
    "import pandas as pd\n",
    "import warnings\n",
    "def ignore_warn(*args, **kwargs):\n",
    "    pass\n",
    "warnings.warn = ignore_warn"
   ]
  },
  {
   "cell_type": "markdown",
   "metadata": {},
   "source": [
    "### Introduce Data"
   ]
  },
  {
   "cell_type": "code",
   "execution_count": 2,
   "metadata": {},
   "outputs": [
    {
     "data": {
      "text/html": [
       "<div>\n",
       "<style scoped>\n",
       "    .dataframe tbody tr th:only-of-type {\n",
       "        vertical-align: middle;\n",
       "    }\n",
       "\n",
       "    .dataframe tbody tr th {\n",
       "        vertical-align: top;\n",
       "    }\n",
       "\n",
       "    .dataframe thead th {\n",
       "        text-align: right;\n",
       "    }\n",
       "</style>\n",
       "<table border=\"1\" class=\"dataframe\">\n",
       "  <thead>\n",
       "    <tr style=\"text-align: right;\">\n",
       "      <th></th>\n",
       "      <th>position</th>\n",
       "      <th>player</th>\n",
       "      <th>team</th>\n",
       "      <th>age</th>\n",
       "      <th>total_value</th>\n",
       "      <th>avg_year</th>\n",
       "      <th>total_guaranteed</th>\n",
       "      <th>fully_guaranteed</th>\n",
       "      <th>free_agency</th>\n",
       "    </tr>\n",
       "  </thead>\n",
       "  <tbody>\n",
       "    <tr>\n",
       "      <th>0</th>\n",
       "      <td>right-tackle</td>\n",
       "      <td>Trent Brown</td>\n",
       "      <td>Raiders</td>\n",
       "      <td>26</td>\n",
       "      <td>66000000</td>\n",
       "      <td>16500000</td>\n",
       "      <td>36250000</td>\n",
       "      <td>36250000</td>\n",
       "      <td>2023 UFA</td>\n",
       "    </tr>\n",
       "    <tr>\n",
       "      <th>1</th>\n",
       "      <td>right-tackle</td>\n",
       "      <td>Ja’Wuan James</td>\n",
       "      <td>Broncos</td>\n",
       "      <td>27</td>\n",
       "      <td>51000000</td>\n",
       "      <td>12750000</td>\n",
       "      <td>32000000</td>\n",
       "      <td>27000000</td>\n",
       "      <td>2023 UFA</td>\n",
       "    </tr>\n",
       "    <tr>\n",
       "      <th>2</th>\n",
       "      <td>right-tackle</td>\n",
       "      <td>Lane Johnson</td>\n",
       "      <td>Eagles</td>\n",
       "      <td>29</td>\n",
       "      <td>56250000</td>\n",
       "      <td>11250000</td>\n",
       "      <td>35500000</td>\n",
       "      <td>20862242</td>\n",
       "      <td>2022 Void</td>\n",
       "    </tr>\n",
       "    <tr>\n",
       "      <th>3</th>\n",
       "      <td>right-tackle</td>\n",
       "      <td>Ricky Wagner</td>\n",
       "      <td>Lions</td>\n",
       "      <td>30</td>\n",
       "      <td>47500000</td>\n",
       "      <td>9500000</td>\n",
       "      <td>29500000</td>\n",
       "      <td>17500000</td>\n",
       "      <td>2022 UFA</td>\n",
       "    </tr>\n",
       "    <tr>\n",
       "      <th>4</th>\n",
       "      <td>right-tackle</td>\n",
       "      <td>Rob Havenstein</td>\n",
       "      <td>Rams</td>\n",
       "      <td>26</td>\n",
       "      <td>32500000</td>\n",
       "      <td>8125000</td>\n",
       "      <td>16226365</td>\n",
       "      <td>9976365</td>\n",
       "      <td>2023 UFA</td>\n",
       "    </tr>\n",
       "  </tbody>\n",
       "</table>\n",
       "</div>"
      ],
      "text/plain": [
       "       position          player     team  age  total_value  avg_year  \\\n",
       "0  right-tackle     Trent Brown  Raiders   26     66000000  16500000   \n",
       "1  right-tackle   Ja’Wuan James  Broncos   27     51000000  12750000   \n",
       "2  right-tackle    Lane Johnson   Eagles   29     56250000  11250000   \n",
       "3  right-tackle    Ricky Wagner    Lions   30     47500000   9500000   \n",
       "4  right-tackle  Rob Havenstein     Rams   26     32500000   8125000   \n",
       "\n",
       "   total_guaranteed  fully_guaranteed free_agency  \n",
       "0          36250000          36250000    2023 UFA  \n",
       "1          32000000          27000000    2023 UFA  \n",
       "2          35500000          20862242   2022 Void  \n",
       "3          29500000          17500000    2022 UFA  \n",
       "4          16226365           9976365    2023 UFA  "
      ]
     },
     "execution_count": 2,
     "metadata": {},
     "output_type": "execute_result"
    }
   ],
   "source": [
    "df = pd.read_csv('football_salaries.csv')\n",
    "df.head()"
   ]
  },
  {
   "cell_type": "code",
   "execution_count": 3,
   "metadata": {},
   "outputs": [
    {
     "data": {
      "text/plain": [
       "2655"
      ]
     },
     "execution_count": 3,
     "metadata": {},
     "output_type": "execute_result"
    }
   ],
   "source": [
    "df['player'].duplicated().sum()"
   ]
  },
  {
   "cell_type": "code",
   "execution_count": 4,
   "metadata": {},
   "outputs": [
    {
     "data": {
      "text/html": [
       "<div>\n",
       "<style scoped>\n",
       "    .dataframe tbody tr th:only-of-type {\n",
       "        vertical-align: middle;\n",
       "    }\n",
       "\n",
       "    .dataframe tbody tr th {\n",
       "        vertical-align: top;\n",
       "    }\n",
       "\n",
       "    .dataframe thead th {\n",
       "        text-align: right;\n",
       "    }\n",
       "</style>\n",
       "<table border=\"1\" class=\"dataframe\">\n",
       "  <thead>\n",
       "    <tr style=\"text-align: right;\">\n",
       "      <th></th>\n",
       "      <th>position</th>\n",
       "      <th>player</th>\n",
       "      <th>team</th>\n",
       "      <th>age</th>\n",
       "      <th>total_value</th>\n",
       "      <th>avg_year</th>\n",
       "      <th>total_guaranteed</th>\n",
       "      <th>fully_guaranteed</th>\n",
       "      <th>free_agency</th>\n",
       "    </tr>\n",
       "  </thead>\n",
       "  <tbody>\n",
       "    <tr>\n",
       "      <th>0</th>\n",
       "      <td>right-tackle</td>\n",
       "      <td>Trent Brown</td>\n",
       "      <td>Raiders</td>\n",
       "      <td>26</td>\n",
       "      <td>66000000</td>\n",
       "      <td>16500000</td>\n",
       "      <td>36250000</td>\n",
       "      <td>36250000</td>\n",
       "      <td>2023 UFA</td>\n",
       "    </tr>\n",
       "    <tr>\n",
       "      <th>1</th>\n",
       "      <td>right-tackle</td>\n",
       "      <td>Ja’Wuan James</td>\n",
       "      <td>Broncos</td>\n",
       "      <td>27</td>\n",
       "      <td>51000000</td>\n",
       "      <td>12750000</td>\n",
       "      <td>32000000</td>\n",
       "      <td>27000000</td>\n",
       "      <td>2023 UFA</td>\n",
       "    </tr>\n",
       "    <tr>\n",
       "      <th>2</th>\n",
       "      <td>right-tackle</td>\n",
       "      <td>Lane Johnson</td>\n",
       "      <td>Eagles</td>\n",
       "      <td>29</td>\n",
       "      <td>56250000</td>\n",
       "      <td>11250000</td>\n",
       "      <td>35500000</td>\n",
       "      <td>20862242</td>\n",
       "      <td>2022 Void</td>\n",
       "    </tr>\n",
       "    <tr>\n",
       "      <th>3</th>\n",
       "      <td>right-tackle</td>\n",
       "      <td>Ricky Wagner</td>\n",
       "      <td>Lions</td>\n",
       "      <td>30</td>\n",
       "      <td>47500000</td>\n",
       "      <td>9500000</td>\n",
       "      <td>29500000</td>\n",
       "      <td>17500000</td>\n",
       "      <td>2022 UFA</td>\n",
       "    </tr>\n",
       "    <tr>\n",
       "      <th>4</th>\n",
       "      <td>right-tackle</td>\n",
       "      <td>Rob Havenstein</td>\n",
       "      <td>Rams</td>\n",
       "      <td>26</td>\n",
       "      <td>32500000</td>\n",
       "      <td>8125000</td>\n",
       "      <td>16226365</td>\n",
       "      <td>9976365</td>\n",
       "      <td>2023 UFA</td>\n",
       "    </tr>\n",
       "    <tr>\n",
       "      <th>...</th>\n",
       "      <td>...</td>\n",
       "      <td>...</td>\n",
       "      <td>...</td>\n",
       "      <td>...</td>\n",
       "      <td>...</td>\n",
       "      <td>...</td>\n",
       "      <td>...</td>\n",
       "      <td>...</td>\n",
       "      <td>...</td>\n",
       "    </tr>\n",
       "    <tr>\n",
       "      <th>5271</th>\n",
       "      <td>wide-receiver</td>\n",
       "      <td>Teo Redding</td>\n",
       "      <td>Packers</td>\n",
       "      <td>0</td>\n",
       "      <td>495000</td>\n",
       "      <td>495000</td>\n",
       "      <td>0</td>\n",
       "      <td>0</td>\n",
       "      <td>2020 ERFA</td>\n",
       "    </tr>\n",
       "    <tr>\n",
       "      <th>5272</th>\n",
       "      <td>wide-receiver</td>\n",
       "      <td>Rashard Davis</td>\n",
       "      <td>Chiefs</td>\n",
       "      <td>24</td>\n",
       "      <td>495000</td>\n",
       "      <td>495000</td>\n",
       "      <td>0</td>\n",
       "      <td>0</td>\n",
       "      <td>2020 ERFA</td>\n",
       "    </tr>\n",
       "    <tr>\n",
       "      <th>5273</th>\n",
       "      <td>wide-receiver</td>\n",
       "      <td>Allen Lazard</td>\n",
       "      <td>Packers</td>\n",
       "      <td>24</td>\n",
       "      <td>975000</td>\n",
       "      <td>487500</td>\n",
       "      <td>0</td>\n",
       "      <td>0</td>\n",
       "      <td>2020 ERFA</td>\n",
       "    </tr>\n",
       "    <tr>\n",
       "      <th>5286</th>\n",
       "      <td>wide-receiver</td>\n",
       "      <td>Darvin Kidsy</td>\n",
       "      <td>Redskins</td>\n",
       "      <td>24</td>\n",
       "      <td>975000</td>\n",
       "      <td>487500</td>\n",
       "      <td>0</td>\n",
       "      <td>0</td>\n",
       "      <td>2020 ERFA</td>\n",
       "    </tr>\n",
       "    <tr>\n",
       "      <th>5362</th>\n",
       "      <td>defensive-back</td>\n",
       "      <td>Deion Harris</td>\n",
       "      <td>Redskins</td>\n",
       "      <td>2020</td>\n",
       "      <td>1755000</td>\n",
       "      <td>585000</td>\n",
       "      <td>0</td>\n",
       "      <td>0</td>\n",
       "      <td>2022 RFA</td>\n",
       "    </tr>\n",
       "  </tbody>\n",
       "</table>\n",
       "<p>2868 rows × 9 columns</p>\n",
       "</div>"
      ],
      "text/plain": [
       "            position          player      team   age  total_value  avg_year  \\\n",
       "0       right-tackle     Trent Brown   Raiders    26     66000000  16500000   \n",
       "1       right-tackle   Ja’Wuan James   Broncos    27     51000000  12750000   \n",
       "2       right-tackle    Lane Johnson    Eagles    29     56250000  11250000   \n",
       "3       right-tackle    Ricky Wagner     Lions    30     47500000   9500000   \n",
       "4       right-tackle  Rob Havenstein      Rams    26     32500000   8125000   \n",
       "...              ...             ...       ...   ...          ...       ...   \n",
       "5271   wide-receiver     Teo Redding   Packers     0       495000    495000   \n",
       "5272   wide-receiver   Rashard Davis    Chiefs    24       495000    495000   \n",
       "5273   wide-receiver    Allen Lazard   Packers    24       975000    487500   \n",
       "5286   wide-receiver    Darvin Kidsy  Redskins    24       975000    487500   \n",
       "5362  defensive-back    Deion Harris  Redskins  2020      1755000    585000   \n",
       "\n",
       "      total_guaranteed  fully_guaranteed free_agency  \n",
       "0             36250000          36250000    2023 UFA  \n",
       "1             32000000          27000000    2023 UFA  \n",
       "2             35500000          20862242   2022 Void  \n",
       "3             29500000          17500000    2022 UFA  \n",
       "4             16226365           9976365    2023 UFA  \n",
       "...                ...               ...         ...  \n",
       "5271                 0                 0   2020 ERFA  \n",
       "5272                 0                 0   2020 ERFA  \n",
       "5273                 0                 0   2020 ERFA  \n",
       "5286                 0                 0   2020 ERFA  \n",
       "5362                 0                 0    2022 RFA  \n",
       "\n",
       "[2868 rows x 9 columns]"
      ]
     },
     "execution_count": 4,
     "metadata": {},
     "output_type": "execute_result"
    }
   ],
   "source": [
    "df.drop_duplicates(subset = 'player', keep = 'first', inplace = True)\n",
    "df"
   ]
  },
  {
   "cell_type": "markdown",
   "metadata": {},
   "source": [
    "### Explore Data"
   ]
  },
  {
   "cell_type": "markdown",
   "metadata": {},
   "source": [
    "#### Explore the 'position' column"
   ]
  },
  {
   "cell_type": "code",
   "execution_count": 5,
   "metadata": {},
   "outputs": [
    {
     "data": {
      "text/plain": [
       "array(['right-tackle', '3-4-outside-linebacker', 'defensive-line',\n",
       "       '3-4-defensive-end', 'linebacker', '4-3-defensive-tackle',\n",
       "       'right-guard', 'left-guard', 'tight-end', 'left-tackle',\n",
       "       '3-4-defensive-tackle', 'center', '4-3-defensive-end',\n",
       "       'long-snapper', 'punter', 'defensive-back', 'safety', 'kicker',\n",
       "       'wide-receiver', 'cornerback', 'quarterback', 'running-back',\n",
       "       'fullback', '4-3-outside-linebacker', 'inside-linebacker',\n",
       "       'edge-rusher'], dtype=object)"
      ]
     },
     "execution_count": 5,
     "metadata": {},
     "output_type": "execute_result"
    }
   ],
   "source": [
    "# What are the different values?\n",
    "df['position'].unique()"
   ]
  },
  {
   "cell_type": "code",
   "execution_count": 6,
   "metadata": {},
   "outputs": [
    {
     "data": {
      "text/plain": [
       "wide-receiver             382\n",
       "cornerback                301\n",
       "safety                    230\n",
       "running-back              197\n",
       "tight-end                 195\n",
       "4-3-defensive-end         135\n",
       "4-3-defensive-tackle      135\n",
       "inside-linebacker         126\n",
       "quarterback               118\n",
       "left-tackle               103\n",
       "right-tackle              100\n",
       "right-guard                99\n",
       "left-guard                 97\n",
       "3-4-defensive-end          95\n",
       "4-3-outside-linebacker     92\n",
       "center                     88\n",
       "linebacker                 84\n",
       "3-4-outside-linebacker     67\n",
       "kicker                     44\n",
       "punter                     44\n",
       "long-snapper               43\n",
       "3-4-defensive-tackle       39\n",
       "fullback                   22\n",
       "defensive-line             21\n",
       "defensive-back             10\n",
       "edge-rusher                 1\n",
       "Name: position, dtype: int64"
      ]
     },
     "execution_count": 6,
     "metadata": {},
     "output_type": "execute_result"
    }
   ],
   "source": [
    "# How many values in each unique value?\n",
    "df['position'].value_counts()"
   ]
  },
  {
   "cell_type": "code",
   "execution_count": 7,
   "metadata": {},
   "outputs": [
    {
     "data": {
      "text/html": [
       "<div>\n",
       "<style scoped>\n",
       "    .dataframe tbody tr th:only-of-type {\n",
       "        vertical-align: middle;\n",
       "    }\n",
       "\n",
       "    .dataframe tbody tr th {\n",
       "        vertical-align: top;\n",
       "    }\n",
       "\n",
       "    .dataframe thead th {\n",
       "        text-align: right;\n",
       "    }\n",
       "</style>\n",
       "<table border=\"1\" class=\"dataframe\">\n",
       "  <thead>\n",
       "    <tr style=\"text-align: right;\">\n",
       "      <th></th>\n",
       "      <th>position</th>\n",
       "      <th>player</th>\n",
       "      <th>team</th>\n",
       "      <th>age</th>\n",
       "      <th>total_value</th>\n",
       "      <th>avg_year</th>\n",
       "      <th>total_guaranteed</th>\n",
       "      <th>fully_guaranteed</th>\n",
       "      <th>free_agency</th>\n",
       "    </tr>\n",
       "  </thead>\n",
       "  <tbody>\n",
       "    <tr>\n",
       "      <th>0</th>\n",
       "      <td>right-tackle</td>\n",
       "      <td>Trent Brown</td>\n",
       "      <td>Raiders</td>\n",
       "      <td>26</td>\n",
       "      <td>66000000</td>\n",
       "      <td>16500000</td>\n",
       "      <td>36250000</td>\n",
       "      <td>36250000</td>\n",
       "      <td>2023 UFA</td>\n",
       "    </tr>\n",
       "    <tr>\n",
       "      <th>1</th>\n",
       "      <td>right-tackle</td>\n",
       "      <td>Ja’Wuan James</td>\n",
       "      <td>Broncos</td>\n",
       "      <td>27</td>\n",
       "      <td>51000000</td>\n",
       "      <td>12750000</td>\n",
       "      <td>32000000</td>\n",
       "      <td>27000000</td>\n",
       "      <td>2023 UFA</td>\n",
       "    </tr>\n",
       "    <tr>\n",
       "      <th>2</th>\n",
       "      <td>right-tackle</td>\n",
       "      <td>Lane Johnson</td>\n",
       "      <td>Eagles</td>\n",
       "      <td>29</td>\n",
       "      <td>56250000</td>\n",
       "      <td>11250000</td>\n",
       "      <td>35500000</td>\n",
       "      <td>20862242</td>\n",
       "      <td>2022 Void</td>\n",
       "    </tr>\n",
       "    <tr>\n",
       "      <th>3</th>\n",
       "      <td>right-tackle</td>\n",
       "      <td>Ricky Wagner</td>\n",
       "      <td>Lions</td>\n",
       "      <td>30</td>\n",
       "      <td>47500000</td>\n",
       "      <td>9500000</td>\n",
       "      <td>29500000</td>\n",
       "      <td>17500000</td>\n",
       "      <td>2022 UFA</td>\n",
       "    </tr>\n",
       "    <tr>\n",
       "      <th>4</th>\n",
       "      <td>right-tackle</td>\n",
       "      <td>Rob Havenstein</td>\n",
       "      <td>Rams</td>\n",
       "      <td>26</td>\n",
       "      <td>32500000</td>\n",
       "      <td>8125000</td>\n",
       "      <td>16226365</td>\n",
       "      <td>9976365</td>\n",
       "      <td>2023 UFA</td>\n",
       "    </tr>\n",
       "    <tr>\n",
       "      <th>...</th>\n",
       "      <td>...</td>\n",
       "      <td>...</td>\n",
       "      <td>...</td>\n",
       "      <td>...</td>\n",
       "      <td>...</td>\n",
       "      <td>...</td>\n",
       "      <td>...</td>\n",
       "      <td>...</td>\n",
       "      <td>...</td>\n",
       "    </tr>\n",
       "    <tr>\n",
       "      <th>2474</th>\n",
       "      <td>4-3-defensive-tackle</td>\n",
       "      <td>Jake Ceresna</td>\n",
       "      <td>Giants</td>\n",
       "      <td>2020</td>\n",
       "      <td>495000</td>\n",
       "      <td>495000</td>\n",
       "      <td>0</td>\n",
       "      <td>0</td>\n",
       "      <td>2020 ERFA</td>\n",
       "    </tr>\n",
       "    <tr>\n",
       "      <th>2476</th>\n",
       "      <td>4-3-defensive-tackle</td>\n",
       "      <td>Winston Craig</td>\n",
       "      <td>Steelers</td>\n",
       "      <td>24</td>\n",
       "      <td>495000</td>\n",
       "      <td>495000</td>\n",
       "      <td>0</td>\n",
       "      <td>0</td>\n",
       "      <td>2020 ERFA</td>\n",
       "    </tr>\n",
       "    <tr>\n",
       "      <th>2477</th>\n",
       "      <td>4-3-defensive-tackle</td>\n",
       "      <td>Nick Thurman</td>\n",
       "      <td>Patriots</td>\n",
       "      <td>24</td>\n",
       "      <td>495000</td>\n",
       "      <td>495000</td>\n",
       "      <td>0</td>\n",
       "      <td>0</td>\n",
       "      <td>2020 ERFA</td>\n",
       "    </tr>\n",
       "    <tr>\n",
       "      <th>2478</th>\n",
       "      <td>4-3-defensive-tackle</td>\n",
       "      <td>Cavon Walker</td>\n",
       "      <td>Chiefs</td>\n",
       "      <td>0</td>\n",
       "      <td>495000</td>\n",
       "      <td>495000</td>\n",
       "      <td>0</td>\n",
       "      <td>0</td>\n",
       "      <td>2020 ERFA</td>\n",
       "    </tr>\n",
       "    <tr>\n",
       "      <th>2479</th>\n",
       "      <td>4-3-defensive-tackle</td>\n",
       "      <td>Kendrick Norton</td>\n",
       "      <td>Dolphins</td>\n",
       "      <td>22</td>\n",
       "      <td>975000</td>\n",
       "      <td>487500</td>\n",
       "      <td>0</td>\n",
       "      <td>0</td>\n",
       "      <td>2020 ERFA</td>\n",
       "    </tr>\n",
       "  </tbody>\n",
       "</table>\n",
       "<p>377 rows × 9 columns</p>\n",
       "</div>"
      ],
      "text/plain": [
       "                  position           player      team   age  total_value  \\\n",
       "0             right-tackle      Trent Brown   Raiders    26     66000000   \n",
       "1             right-tackle    Ja’Wuan James   Broncos    27     51000000   \n",
       "2             right-tackle     Lane Johnson    Eagles    29     56250000   \n",
       "3             right-tackle     Ricky Wagner     Lions    30     47500000   \n",
       "4             right-tackle   Rob Havenstein      Rams    26     32500000   \n",
       "...                    ...              ...       ...   ...          ...   \n",
       "2474  4-3-defensive-tackle     Jake Ceresna    Giants  2020       495000   \n",
       "2476  4-3-defensive-tackle    Winston Craig  Steelers    24       495000   \n",
       "2477  4-3-defensive-tackle     Nick Thurman  Patriots    24       495000   \n",
       "2478  4-3-defensive-tackle     Cavon Walker    Chiefs     0       495000   \n",
       "2479  4-3-defensive-tackle  Kendrick Norton  Dolphins    22       975000   \n",
       "\n",
       "      avg_year  total_guaranteed  fully_guaranteed free_agency  \n",
       "0     16500000          36250000          36250000    2023 UFA  \n",
       "1     12750000          32000000          27000000    2023 UFA  \n",
       "2     11250000          35500000          20862242   2022 Void  \n",
       "3      9500000          29500000          17500000    2022 UFA  \n",
       "4      8125000          16226365           9976365    2023 UFA  \n",
       "...        ...               ...               ...         ...  \n",
       "2474    495000                 0                 0   2020 ERFA  \n",
       "2476    495000                 0                 0   2020 ERFA  \n",
       "2477    495000                 0                 0   2020 ERFA  \n",
       "2478    495000                 0                 0   2020 ERFA  \n",
       "2479    487500                 0                 0   2020 ERFA  \n",
       "\n",
       "[377 rows x 9 columns]"
      ]
     },
     "execution_count": 7,
     "metadata": {},
     "output_type": "execute_result"
    }
   ],
   "source": [
    "# Which players are on the offensive and defensive tackles?\n",
    "tackles = df.loc[df['position'].str.contains('tackle')]\n",
    "tackles"
   ]
  },
  {
   "cell_type": "code",
   "execution_count": 8,
   "metadata": {},
   "outputs": [],
   "source": [
    "# Use pandas.iloc to find specific items on the dataframe"
   ]
  },
  {
   "cell_type": "code",
   "execution_count": 9,
   "metadata": {},
   "outputs": [
    {
     "data": {
      "text/plain": [
       "0      Trent Brown\n",
       "1    Ja’Wuan James\n",
       "Name: player, dtype: object"
      ]
     },
     "execution_count": 9,
     "metadata": {},
     "output_type": "execute_result"
    }
   ],
   "source": [
    "# The names of the people in the first two rows\n",
    "tackles.iloc[0:2,1]"
   ]
  },
  {
   "cell_type": "code",
   "execution_count": 10,
   "metadata": {},
   "outputs": [
    {
     "data": {
      "text/html": [
       "<div>\n",
       "<style scoped>\n",
       "    .dataframe tbody tr th:only-of-type {\n",
       "        vertical-align: middle;\n",
       "    }\n",
       "\n",
       "    .dataframe tbody tr th {\n",
       "        vertical-align: top;\n",
       "    }\n",
       "\n",
       "    .dataframe thead th {\n",
       "        text-align: right;\n",
       "    }\n",
       "</style>\n",
       "<table border=\"1\" class=\"dataframe\">\n",
       "  <thead>\n",
       "    <tr style=\"text-align: right;\">\n",
       "      <th></th>\n",
       "      <th>position</th>\n",
       "      <th>player</th>\n",
       "      <th>team</th>\n",
       "      <th>age</th>\n",
       "    </tr>\n",
       "  </thead>\n",
       "  <tbody>\n",
       "    <tr>\n",
       "      <th>1</th>\n",
       "      <td>right-tackle</td>\n",
       "      <td>Ja’Wuan James</td>\n",
       "      <td>Broncos</td>\n",
       "      <td>27</td>\n",
       "    </tr>\n",
       "    <tr>\n",
       "      <th>2</th>\n",
       "      <td>right-tackle</td>\n",
       "      <td>Lane Johnson</td>\n",
       "      <td>Eagles</td>\n",
       "      <td>29</td>\n",
       "    </tr>\n",
       "  </tbody>\n",
       "</table>\n",
       "</div>"
      ],
      "text/plain": [
       "       position         player     team  age\n",
       "1  right-tackle  Ja’Wuan James  Broncos   27\n",
       "2  right-tackle   Lane Johnson   Eagles   29"
      ]
     },
     "execution_count": 10,
     "metadata": {},
     "output_type": "execute_result"
    }
   ],
   "source": [
    "# The position, name, team, and age of the second and third rows \n",
    "tackles.iloc[1:3,0:4]"
   ]
  },
  {
   "cell_type": "markdown",
   "metadata": {},
   "source": [
    "#### Explore the 'team' column"
   ]
  },
  {
   "cell_type": "code",
   "execution_count": 11,
   "metadata": {},
   "outputs": [
    {
     "data": {
      "text/plain": [
       "Jaguars     93\n",
       "Dolphins    93\n",
       "Jets        92\n",
       "Bengals     92\n",
       "Ravens      92\n",
       "Name: team, dtype: int64"
      ]
     },
     "execution_count": 11,
     "metadata": {},
     "output_type": "execute_result"
    }
   ],
   "source": [
    "team_value_counts = df['team'].value_counts()\n",
    "team_value_counts.head()"
   ]
  },
  {
   "cell_type": "code",
   "execution_count": 12,
   "metadata": {},
   "outputs": [],
   "source": [
    "import matplotlib.pyplot as plt\n",
    "%matplotlib inline"
   ]
  },
  {
   "cell_type": "code",
   "execution_count": 13,
   "metadata": {},
   "outputs": [
    {
     "data": {
      "image/png": "[encoded data removed]",
      "text/plain": [
       "<Figure size 432x288 with 1 Axes>"
      ]
     },
     "metadata": {
      "needs_background": "light"
     },
     "output_type": "display_data"
    }
   ],
   "source": [
    "# Beginner version\n",
    "teams_bar_graph = team_value_counts.plot(kind='barh')"
   ]
  },
  {
   "cell_type": "code",
   "execution_count": 14,
   "metadata": {},
   "outputs": [
    {
     "data": {
      "image/png": "[encoded data removed]",
      "text/plain": [
       "<Figure size 648x504 with 1 Axes>"
      ]
     },
     "metadata": {
      "needs_background": "light"
     },
     "output_type": "display_data"
    }
   ],
   "source": [
    "# Slighly more advanced\n",
    "\n",
    "fig, ax = plt.subplots(figsize = (9,7))\n",
    "team_bar = team_value_counts.plot(kind= 'barh')\n",
    "\n",
    "plt.xlabel('# of Players')\n",
    "plt.ylabel('Team')\n",
    "plt.show()"
   ]
  },
  {
   "cell_type": "code",
   "execution_count": 15,
   "metadata": {},
   "outputs": [
    {
     "data": {
      "text/plain": [
       "206474078"
      ]
     },
     "execution_count": 15,
     "metadata": {},
     "output_type": "execute_result"
    }
   ],
   "source": [
    "# Yearly salary paid by the Raiders\n",
    "\n",
    "df.loc[df['team']=='Raiders', 'avg_year'].sum()"
   ]
  },
  {
   "cell_type": "code",
   "execution_count": 16,
   "metadata": {},
   "outputs": [
    {
     "data": {
      "text/plain": [
       "team\n",
       "49ers         220012286\n",
       "Bears         205923520\n",
       "Bengals       204187316\n",
       "Bills         184723621\n",
       "Broncos       197118929\n",
       "Browns        218104947\n",
       "Buccaneers    200418294\n",
       "Cardinals     185722069\n",
       "Chargers      184608054\n",
       "Chiefs        187769170\n",
       "Colts         193175657\n",
       "Cowboys       179398192\n",
       "Dolphins      157346629\n",
       "Eagles        208516559\n",
       "Falcons       210538646\n",
       "Giants        190187388\n",
       "Jaguars       216746539\n",
       "Jets          207630893\n",
       "Lions         199237198\n",
       "Packers       219982000\n",
       "Panthers      192619900\n",
       "Patriots      206626713\n",
       "Raiders       206474078\n",
       "Rams          195806827\n",
       "Ravens        171120303\n",
       "Redskins      211454218\n",
       "Saints        186537253\n",
       "Seahawks      182699718\n",
       "Steelers      212227086\n",
       "Texans        202785801\n",
       "Titans        210659478\n",
       "Vikings       240800550\n",
       "Name: avg_year, dtype: int64"
      ]
     },
     "execution_count": 16,
     "metadata": {},
     "output_type": "execute_result"
    }
   ],
   "source": [
    "# Yearly salary paid by each team\n",
    "# Groupby is very helpful here since it iterated through every single team in the'team' column\n",
    "\n",
    "yearly_salary_32 = df.groupby('team')['avg_year'].sum()\n",
    "yearly_salary_32"
   ]
  },
  {
   "cell_type": "code",
   "execution_count": 17,
   "metadata": {},
   "outputs": [
    {
     "data": {
      "image/png": "[encoded data removed]",
      "text/plain": [
       "<Figure size 648x504 with 1 Axes>"
      ]
     },
     "metadata": {
      "needs_background": "light"
     },
     "output_type": "display_data"
    }
   ],
   "source": [
    "# Let's visualize the information above\n",
    "\n",
    "fig, ax = plt.subplots(figsize = (9,7))\n",
    "team_salary_bar = yearly_salary_32.sort_values(ascending=False).plot(kind= 'barh')\n",
    "\n",
    "plt.xlabel('$')\n",
    "plt.ylabel('Team')\n",
    "plt.title('Yearly Salary Paid by NFL Teams ($USD)')\n",
    "plt.show()"
   ]
  },
  {
   "cell_type": "code",
   "execution_count": null,
   "metadata": {},
   "outputs": [],
   "source": []
  },
  {
   "cell_type": "markdown",
   "metadata": {},
   "source": [
    "#### Explore the Saints"
   ]
  },
  {
   "cell_type": "code",
   "execution_count": 18,
   "metadata": {},
   "outputs": [
    {
     "data": {
      "text/html": [
       "<div>\n",
       "<style scoped>\n",
       "    .dataframe tbody tr th:only-of-type {\n",
       "        vertical-align: middle;\n",
       "    }\n",
       "\n",
       "    .dataframe tbody tr th {\n",
       "        vertical-align: top;\n",
       "    }\n",
       "\n",
       "    .dataframe thead th {\n",
       "        text-align: right;\n",
       "    }\n",
       "</style>\n",
       "<table border=\"1\" class=\"dataframe\">\n",
       "  <thead>\n",
       "    <tr style=\"text-align: right;\">\n",
       "      <th></th>\n",
       "      <th>position</th>\n",
       "      <th>player</th>\n",
       "      <th>team</th>\n",
       "      <th>age</th>\n",
       "      <th>total_value</th>\n",
       "      <th>avg_year</th>\n",
       "      <th>total_guaranteed</th>\n",
       "      <th>fully_guaranteed</th>\n",
       "      <th>free_agency</th>\n",
       "    </tr>\n",
       "  </thead>\n",
       "  <tbody>\n",
       "    <tr>\n",
       "      <th>28</th>\n",
       "      <td>right-tackle</td>\n",
       "      <td>Ryan Ramczyk</td>\n",
       "      <td>Saints</td>\n",
       "      <td>25</td>\n",
       "      <td>8891810</td>\n",
       "      <td>2222953</td>\n",
       "      <td>7432291</td>\n",
       "      <td>7432291</td>\n",
       "      <td>2021 UFA</td>\n",
       "    </tr>\n",
       "    <tr>\n",
       "      <th>132</th>\n",
       "      <td>right-tackle</td>\n",
       "      <td>Michael Ola</td>\n",
       "      <td>Saints</td>\n",
       "      <td>31</td>\n",
       "      <td>805000</td>\n",
       "      <td>805000</td>\n",
       "      <td>0</td>\n",
       "      <td>0</td>\n",
       "      <td>2020 UFA</td>\n",
       "    </tr>\n",
       "    <tr>\n",
       "      <th>203</th>\n",
       "      <td>4-3-defensive-tackle</td>\n",
       "      <td>Malcom Brown</td>\n",
       "      <td>Saints</td>\n",
       "      <td>25</td>\n",
       "      <td>15000000</td>\n",
       "      <td>5000000</td>\n",
       "      <td>5500000</td>\n",
       "      <td>7500000</td>\n",
       "      <td>2022 UFA</td>\n",
       "    </tr>\n",
       "    <tr>\n",
       "      <th>207</th>\n",
       "      <td>defensive-line</td>\n",
       "      <td>Cameron Jordan</td>\n",
       "      <td>Saints</td>\n",
       "      <td>30</td>\n",
       "      <td>55000000</td>\n",
       "      <td>11000000</td>\n",
       "      <td>33469000</td>\n",
       "      <td>22969000</td>\n",
       "      <td>2021 UFA</td>\n",
       "    </tr>\n",
       "    <tr>\n",
       "      <th>239</th>\n",
       "      <td>right-guard</td>\n",
       "      <td>Larry Warford</td>\n",
       "      <td>Saints</td>\n",
       "      <td>28</td>\n",
       "      <td>34000000</td>\n",
       "      <td>8500000</td>\n",
       "      <td>17000000</td>\n",
       "      <td>17000000</td>\n",
       "      <td>2021 UFA</td>\n",
       "    </tr>\n",
       "    <tr>\n",
       "      <th>259</th>\n",
       "      <td>linebacker</td>\n",
       "      <td>Demario Davis</td>\n",
       "      <td>Saints</td>\n",
       "      <td>30</td>\n",
       "      <td>24000000</td>\n",
       "      <td>8000000</td>\n",
       "      <td>16000000</td>\n",
       "      <td>16000000</td>\n",
       "      <td>2021 Void</td>\n",
       "    </tr>\n",
       "    <tr>\n",
       "      <th>358</th>\n",
       "      <td>4-3-defensive-tackle</td>\n",
       "      <td>Sheldon Rankins</td>\n",
       "      <td>Saints</td>\n",
       "      <td>25</td>\n",
       "      <td>12801646</td>\n",
       "      <td>3200412</td>\n",
       "      <td>12801646</td>\n",
       "      <td>12801646</td>\n",
       "      <td>2021 UFA</td>\n",
       "    </tr>\n",
       "    <tr>\n",
       "      <th>373</th>\n",
       "      <td>left-guard</td>\n",
       "      <td>Nick Easton</td>\n",
       "      <td>Saints</td>\n",
       "      <td>27</td>\n",
       "      <td>22500000</td>\n",
       "      <td>5625000</td>\n",
       "      <td>4000000</td>\n",
       "      <td>4000000</td>\n",
       "      <td>2023 UFA</td>\n",
       "    </tr>\n",
       "    <tr>\n",
       "      <th>380</th>\n",
       "      <td>tight-end</td>\n",
       "      <td>Jared Cook</td>\n",
       "      <td>Saints</td>\n",
       "      <td>32</td>\n",
       "      <td>15000000</td>\n",
       "      <td>7500000</td>\n",
       "      <td>8000000</td>\n",
       "      <td>8000000</td>\n",
       "      <td>2021 Void</td>\n",
       "    </tr>\n",
       "    <tr>\n",
       "      <th>393</th>\n",
       "      <td>left-tackle</td>\n",
       "      <td>Terron Armstead</td>\n",
       "      <td>Saints</td>\n",
       "      <td>28</td>\n",
       "      <td>65000000</td>\n",
       "      <td>13000000</td>\n",
       "      <td>38000000</td>\n",
       "      <td>20880000</td>\n",
       "      <td>2022 UFA</td>\n",
       "    </tr>\n",
       "  </tbody>\n",
       "</table>\n",
       "</div>"
      ],
      "text/plain": [
       "                 position           player    team  age  total_value  \\\n",
       "28           right-tackle     Ryan Ramczyk  Saints   25      8891810   \n",
       "132          right-tackle      Michael Ola  Saints   31       805000   \n",
       "203  4-3-defensive-tackle     Malcom Brown  Saints   25     15000000   \n",
       "207        defensive-line   Cameron Jordan  Saints   30     55000000   \n",
       "239           right-guard    Larry Warford  Saints   28     34000000   \n",
       "259            linebacker    Demario Davis  Saints   30     24000000   \n",
       "358  4-3-defensive-tackle  Sheldon Rankins  Saints   25     12801646   \n",
       "373            left-guard      Nick Easton  Saints   27     22500000   \n",
       "380             tight-end       Jared Cook  Saints   32     15000000   \n",
       "393           left-tackle  Terron Armstead  Saints   28     65000000   \n",
       "\n",
       "     avg_year  total_guaranteed  fully_guaranteed free_agency  \n",
       "28    2222953           7432291           7432291    2021 UFA  \n",
       "132    805000                 0                 0    2020 UFA  \n",
       "203   5000000           5500000           7500000    2022 UFA  \n",
       "207  11000000          33469000          22969000    2021 UFA  \n",
       "239   8500000          17000000          17000000    2021 UFA  \n",
       "259   8000000          16000000          16000000   2021 Void  \n",
       "358   3200412          12801646          12801646    2021 UFA  \n",
       "373   5625000           4000000           4000000    2023 UFA  \n",
       "380   7500000           8000000           8000000   2021 Void  \n",
       "393  13000000          38000000          20880000    2022 UFA  "
      ]
     },
     "execution_count": 18,
     "metadata": {},
     "output_type": "execute_result"
    }
   ],
   "source": [
    "saints = df[df['team']=='Saints']\n",
    "saints.head(10)"
   ]
  },
  {
   "cell_type": "markdown",
   "metadata": {},
   "source": [
    "In the original formation of the saints dataframe, there appeared to be repeats. Therefore, I went back to the original dataframe created and checked for these repeats before removing them"
   ]
  },
  {
   "cell_type": "code",
   "execution_count": 19,
   "metadata": {},
   "outputs": [
    {
     "data": {
      "text/html": [
       "<div>\n",
       "<style scoped>\n",
       "    .dataframe tbody tr th:only-of-type {\n",
       "        vertical-align: middle;\n",
       "    }\n",
       "\n",
       "    .dataframe tbody tr th {\n",
       "        vertical-align: top;\n",
       "    }\n",
       "\n",
       "    .dataframe thead th {\n",
       "        text-align: right;\n",
       "    }\n",
       "</style>\n",
       "<table border=\"1\" class=\"dataframe\">\n",
       "  <thead>\n",
       "    <tr style=\"text-align: right;\">\n",
       "      <th></th>\n",
       "      <th>position</th>\n",
       "      <th>player</th>\n",
       "      <th>team</th>\n",
       "      <th>age</th>\n",
       "      <th>total_value</th>\n",
       "      <th>avg_year</th>\n",
       "      <th>total_guaranteed</th>\n",
       "      <th>fully_guaranteed</th>\n",
       "      <th>free_agency</th>\n",
       "    </tr>\n",
       "  </thead>\n",
       "  <tbody>\n",
       "    <tr>\n",
       "      <th>1458</th>\n",
       "      <td>quarterback</td>\n",
       "      <td>Drew Brees</td>\n",
       "      <td>Saints</td>\n",
       "      <td>40</td>\n",
       "      <td>50000000</td>\n",
       "      <td>25000000</td>\n",
       "      <td>27000000</td>\n",
       "      <td>27000000</td>\n",
       "      <td>2020 Void</td>\n",
       "    </tr>\n",
       "    <tr>\n",
       "      <th>1783</th>\n",
       "      <td>quarterback</td>\n",
       "      <td>Teddy Bridgewater</td>\n",
       "      <td>Saints</td>\n",
       "      <td>27</td>\n",
       "      <td>7250000</td>\n",
       "      <td>7250000</td>\n",
       "      <td>7250000</td>\n",
       "      <td>7250000</td>\n",
       "      <td>2020 Void</td>\n",
       "    </tr>\n",
       "    <tr>\n",
       "      <th>3188</th>\n",
       "      <td>quarterback</td>\n",
       "      <td>Taysom Hill</td>\n",
       "      <td>Saints</td>\n",
       "      <td>29</td>\n",
       "      <td>1670000</td>\n",
       "      <td>556667</td>\n",
       "      <td>5000</td>\n",
       "      <td>5000</td>\n",
       "      <td>2020 RFA</td>\n",
       "    </tr>\n",
       "    <tr>\n",
       "      <th>3284</th>\n",
       "      <td>quarterback</td>\n",
       "      <td>J.T. Barrett</td>\n",
       "      <td>Saints</td>\n",
       "      <td>0</td>\n",
       "      <td>1080000</td>\n",
       "      <td>540000</td>\n",
       "      <td>0</td>\n",
       "      <td>0</td>\n",
       "      <td>2021 ERFA</td>\n",
       "    </tr>\n",
       "  </tbody>\n",
       "</table>\n",
       "</div>"
      ],
      "text/plain": [
       "         position             player    team  age  total_value  avg_year  \\\n",
       "1458  quarterback         Drew Brees  Saints   40     50000000  25000000   \n",
       "1783  quarterback  Teddy Bridgewater  Saints   27      7250000   7250000   \n",
       "3188  quarterback        Taysom Hill  Saints   29      1670000    556667   \n",
       "3284  quarterback       J.T. Barrett  Saints    0      1080000    540000   \n",
       "\n",
       "      total_guaranteed  fully_guaranteed free_agency  \n",
       "1458          27000000          27000000   2020 Void  \n",
       "1783           7250000           7250000   2020 Void  \n",
       "3188              5000              5000    2020 RFA  \n",
       "3284                 0                 0   2021 ERFA  "
      ]
     },
     "execution_count": 19,
     "metadata": {},
     "output_type": "execute_result"
    }
   ],
   "source": [
    "# Find the quarterbacks\n",
    "\n",
    "saints_qbs = saints[saints['position']=='quarterback']\n",
    "saints_qbs"
   ]
  },
  {
   "cell_type": "code",
   "execution_count": 20,
   "metadata": {},
   "outputs": [
    {
     "data": {
      "text/plain": [
       "186537253"
      ]
     },
     "execution_count": 20,
     "metadata": {},
     "output_type": "execute_result"
    }
   ],
   "source": [
    "# Total salary paid by the Saints for the year\n",
    "\n",
    "saints_salary = df.loc[df['team']=='Saints', 'avg_year'].sum()\n",
    "saints_salary"
   ]
  },
  {
   "cell_type": "code",
   "execution_count": 21,
   "metadata": {},
   "outputs": [
    {
     "data": {
      "text/html": [
       "<div>\n",
       "<style scoped>\n",
       "    .dataframe tbody tr th:only-of-type {\n",
       "        vertical-align: middle;\n",
       "    }\n",
       "\n",
       "    .dataframe tbody tr th {\n",
       "        vertical-align: top;\n",
       "    }\n",
       "\n",
       "    .dataframe thead th {\n",
       "        text-align: right;\n",
       "    }\n",
       "</style>\n",
       "<table border=\"1\" class=\"dataframe\">\n",
       "  <thead>\n",
       "    <tr style=\"text-align: right;\">\n",
       "      <th></th>\n",
       "      <th>position</th>\n",
       "      <th>player</th>\n",
       "      <th>team</th>\n",
       "      <th>age</th>\n",
       "      <th>total_value</th>\n",
       "      <th>avg_year</th>\n",
       "      <th>total_guaranteed</th>\n",
       "      <th>fully_guaranteed</th>\n",
       "      <th>free_agency</th>\n",
       "      <th>saints_salary_percent</th>\n",
       "    </tr>\n",
       "  </thead>\n",
       "  <tbody>\n",
       "    <tr>\n",
       "      <th>28</th>\n",
       "      <td>right-tackle</td>\n",
       "      <td>Ryan Ramczyk</td>\n",
       "      <td>Saints</td>\n",
       "      <td>25</td>\n",
       "      <td>8891810</td>\n",
       "      <td>2222953</td>\n",
       "      <td>7432291</td>\n",
       "      <td>7432291</td>\n",
       "      <td>2021 UFA</td>\n",
       "      <td>0.011917</td>\n",
       "    </tr>\n",
       "    <tr>\n",
       "      <th>132</th>\n",
       "      <td>right-tackle</td>\n",
       "      <td>Michael Ola</td>\n",
       "      <td>Saints</td>\n",
       "      <td>31</td>\n",
       "      <td>805000</td>\n",
       "      <td>805000</td>\n",
       "      <td>0</td>\n",
       "      <td>0</td>\n",
       "      <td>2020 UFA</td>\n",
       "      <td>0.004315</td>\n",
       "    </tr>\n",
       "    <tr>\n",
       "      <th>203</th>\n",
       "      <td>4-3-defensive-tackle</td>\n",
       "      <td>Malcom Brown</td>\n",
       "      <td>Saints</td>\n",
       "      <td>25</td>\n",
       "      <td>15000000</td>\n",
       "      <td>5000000</td>\n",
       "      <td>5500000</td>\n",
       "      <td>7500000</td>\n",
       "      <td>2022 UFA</td>\n",
       "      <td>0.026804</td>\n",
       "    </tr>\n",
       "    <tr>\n",
       "      <th>207</th>\n",
       "      <td>defensive-line</td>\n",
       "      <td>Cameron Jordan</td>\n",
       "      <td>Saints</td>\n",
       "      <td>30</td>\n",
       "      <td>55000000</td>\n",
       "      <td>11000000</td>\n",
       "      <td>33469000</td>\n",
       "      <td>22969000</td>\n",
       "      <td>2021 UFA</td>\n",
       "      <td>0.058969</td>\n",
       "    </tr>\n",
       "    <tr>\n",
       "      <th>239</th>\n",
       "      <td>right-guard</td>\n",
       "      <td>Larry Warford</td>\n",
       "      <td>Saints</td>\n",
       "      <td>28</td>\n",
       "      <td>34000000</td>\n",
       "      <td>8500000</td>\n",
       "      <td>17000000</td>\n",
       "      <td>17000000</td>\n",
       "      <td>2021 UFA</td>\n",
       "      <td>0.045567</td>\n",
       "    </tr>\n",
       "    <tr>\n",
       "      <th>...</th>\n",
       "      <td>...</td>\n",
       "      <td>...</td>\n",
       "      <td>...</td>\n",
       "      <td>...</td>\n",
       "      <td>...</td>\n",
       "      <td>...</td>\n",
       "      <td>...</td>\n",
       "      <td>...</td>\n",
       "      <td>...</td>\n",
       "      <td>...</td>\n",
       "    </tr>\n",
       "    <tr>\n",
       "      <th>5059</th>\n",
       "      <td>wide-receiver</td>\n",
       "      <td>Austin Carr</td>\n",
       "      <td>Saints</td>\n",
       "      <td>26</td>\n",
       "      <td>1672500</td>\n",
       "      <td>557500</td>\n",
       "      <td>30000</td>\n",
       "      <td>30000</td>\n",
       "      <td>2020 RFA</td>\n",
       "      <td>0.002989</td>\n",
       "    </tr>\n",
       "    <tr>\n",
       "      <th>5080</th>\n",
       "      <td>wide-receiver</td>\n",
       "      <td>Dan Arnold</td>\n",
       "      <td>Saints</td>\n",
       "      <td>24</td>\n",
       "      <td>1665000</td>\n",
       "      <td>555000</td>\n",
       "      <td>0</td>\n",
       "      <td>0</td>\n",
       "      <td>2020 RFA</td>\n",
       "      <td>0.002975</td>\n",
       "    </tr>\n",
       "    <tr>\n",
       "      <th>5173</th>\n",
       "      <td>wide-receiver</td>\n",
       "      <td>Keith Kirkwood</td>\n",
       "      <td>Saints</td>\n",
       "      <td>25</td>\n",
       "      <td>1050000</td>\n",
       "      <td>525000</td>\n",
       "      <td>0</td>\n",
       "      <td>0</td>\n",
       "      <td>2020 ERFA</td>\n",
       "      <td>0.002814</td>\n",
       "    </tr>\n",
       "    <tr>\n",
       "      <th>5175</th>\n",
       "      <td>wide-receiver</td>\n",
       "      <td>Simmie Cobbs Jr.</td>\n",
       "      <td>Saints</td>\n",
       "      <td>24</td>\n",
       "      <td>1050000</td>\n",
       "      <td>525000</td>\n",
       "      <td>0</td>\n",
       "      <td>0</td>\n",
       "      <td>2020 ERFA</td>\n",
       "      <td>0.002814</td>\n",
       "    </tr>\n",
       "    <tr>\n",
       "      <th>5193</th>\n",
       "      <td>wide-receiver</td>\n",
       "      <td>Travin Dural</td>\n",
       "      <td>Saints</td>\n",
       "      <td>26</td>\n",
       "      <td>105000</td>\n",
       "      <td>525000</td>\n",
       "      <td>0</td>\n",
       "      <td>0</td>\n",
       "      <td>2020 ERFA</td>\n",
       "      <td>0.002814</td>\n",
       "    </tr>\n",
       "  </tbody>\n",
       "</table>\n",
       "<p>78 rows × 10 columns</p>\n",
       "</div>"
      ],
      "text/plain": [
       "                  position            player    team  age  total_value  \\\n",
       "28            right-tackle      Ryan Ramczyk  Saints   25      8891810   \n",
       "132           right-tackle       Michael Ola  Saints   31       805000   \n",
       "203   4-3-defensive-tackle      Malcom Brown  Saints   25     15000000   \n",
       "207         defensive-line    Cameron Jordan  Saints   30     55000000   \n",
       "239            right-guard     Larry Warford  Saints   28     34000000   \n",
       "...                    ...               ...     ...  ...          ...   \n",
       "5059         wide-receiver       Austin Carr  Saints   26      1672500   \n",
       "5080         wide-receiver        Dan Arnold  Saints   24      1665000   \n",
       "5173         wide-receiver    Keith Kirkwood  Saints   25      1050000   \n",
       "5175         wide-receiver  Simmie Cobbs Jr.  Saints   24      1050000   \n",
       "5193         wide-receiver      Travin Dural  Saints   26       105000   \n",
       "\n",
       "      avg_year  total_guaranteed  fully_guaranteed free_agency  \\\n",
       "28     2222953           7432291           7432291    2021 UFA   \n",
       "132     805000                 0                 0    2020 UFA   \n",
       "203    5000000           5500000           7500000    2022 UFA   \n",
       "207   11000000          33469000          22969000    2021 UFA   \n",
       "239    8500000          17000000          17000000    2021 UFA   \n",
       "...        ...               ...               ...         ...   \n",
       "5059    557500             30000             30000    2020 RFA   \n",
       "5080    555000                 0                 0    2020 RFA   \n",
       "5173    525000                 0                 0   2020 ERFA   \n",
       "5175    525000                 0                 0   2020 ERFA   \n",
       "5193    525000                 0                 0   2020 ERFA   \n",
       "\n",
       "      saints_salary_percent  \n",
       "28                 0.011917  \n",
       "132                0.004315  \n",
       "203                0.026804  \n",
       "207                0.058969  \n",
       "239                0.045567  \n",
       "...                     ...  \n",
       "5059               0.002989  \n",
       "5080               0.002975  \n",
       "5173               0.002814  \n",
       "5175               0.002814  \n",
       "5193               0.002814  \n",
       "\n",
       "[78 rows x 10 columns]"
      ]
     },
     "execution_count": 21,
     "metadata": {},
     "output_type": "execute_result"
    }
   ],
   "source": [
    "# % of the total yearly salary that the players are each taking up\n",
    "\n",
    "saints['saints_salary_percent'] = saints['avg_year']/saints_salary\n",
    "saints"
   ]
  },
  {
   "cell_type": "code",
   "execution_count": 22,
   "metadata": {},
   "outputs": [
    {
     "data": {
      "image/png": "[encoded data removed]",
      "text/plain": [
       "<Figure size 1080x936 with 1 Axes>"
      ]
     },
     "metadata": {
      "needs_background": "light"
     },
     "output_type": "display_data"
    }
   ],
   "source": [
    "# Visualize with Matplotlib\n",
    "\n",
    "fig, ax = plt.subplots(figsize = (15,13))\n",
    "labels = saints['player']\n",
    "values = saints['saints_salary_percent']\n",
    "\n",
    "plt.barh(labels, values)  # Made it horizontal since the names would have been a mess vertically\n",
    "plt.show()"
   ]
  },
  {
   "cell_type": "code",
   "execution_count": 23,
   "metadata": {},
   "outputs": [
    {
     "data": {
      "text/html": [
       "<div>\n",
       "<style scoped>\n",
       "    .dataframe tbody tr th:only-of-type {\n",
       "        vertical-align: middle;\n",
       "    }\n",
       "\n",
       "    .dataframe tbody tr th {\n",
       "        vertical-align: top;\n",
       "    }\n",
       "\n",
       "    .dataframe thead th {\n",
       "        text-align: right;\n",
       "    }\n",
       "</style>\n",
       "<table border=\"1\" class=\"dataframe\">\n",
       "  <thead>\n",
       "    <tr style=\"text-align: right;\">\n",
       "      <th></th>\n",
       "      <th>position</th>\n",
       "      <th>player</th>\n",
       "      <th>team</th>\n",
       "      <th>age</th>\n",
       "      <th>total_value</th>\n",
       "      <th>avg_year</th>\n",
       "      <th>total_guaranteed</th>\n",
       "      <th>fully_guaranteed</th>\n",
       "      <th>free_agency</th>\n",
       "      <th>saints_salary_percent</th>\n",
       "      <th>saints_percent_fully_guaranteed</th>\n",
       "    </tr>\n",
       "  </thead>\n",
       "  <tbody>\n",
       "    <tr>\n",
       "      <th>28</th>\n",
       "      <td>right-tackle</td>\n",
       "      <td>Ryan Ramczyk</td>\n",
       "      <td>Saints</td>\n",
       "      <td>25</td>\n",
       "      <td>8891810</td>\n",
       "      <td>2222953</td>\n",
       "      <td>7432291</td>\n",
       "      <td>7432291</td>\n",
       "      <td>2021 UFA</td>\n",
       "      <td>0.011917</td>\n",
       "      <td>0.835858</td>\n",
       "    </tr>\n",
       "    <tr>\n",
       "      <th>132</th>\n",
       "      <td>right-tackle</td>\n",
       "      <td>Michael Ola</td>\n",
       "      <td>Saints</td>\n",
       "      <td>31</td>\n",
       "      <td>805000</td>\n",
       "      <td>805000</td>\n",
       "      <td>0</td>\n",
       "      <td>0</td>\n",
       "      <td>2020 UFA</td>\n",
       "      <td>0.004315</td>\n",
       "      <td>0.000000</td>\n",
       "    </tr>\n",
       "    <tr>\n",
       "      <th>203</th>\n",
       "      <td>4-3-defensive-tackle</td>\n",
       "      <td>Malcom Brown</td>\n",
       "      <td>Saints</td>\n",
       "      <td>25</td>\n",
       "      <td>15000000</td>\n",
       "      <td>5000000</td>\n",
       "      <td>5500000</td>\n",
       "      <td>7500000</td>\n",
       "      <td>2022 UFA</td>\n",
       "      <td>0.026804</td>\n",
       "      <td>0.500000</td>\n",
       "    </tr>\n",
       "    <tr>\n",
       "      <th>207</th>\n",
       "      <td>defensive-line</td>\n",
       "      <td>Cameron Jordan</td>\n",
       "      <td>Saints</td>\n",
       "      <td>30</td>\n",
       "      <td>55000000</td>\n",
       "      <td>11000000</td>\n",
       "      <td>33469000</td>\n",
       "      <td>22969000</td>\n",
       "      <td>2021 UFA</td>\n",
       "      <td>0.058969</td>\n",
       "      <td>0.417618</td>\n",
       "    </tr>\n",
       "    <tr>\n",
       "      <th>239</th>\n",
       "      <td>right-guard</td>\n",
       "      <td>Larry Warford</td>\n",
       "      <td>Saints</td>\n",
       "      <td>28</td>\n",
       "      <td>34000000</td>\n",
       "      <td>8500000</td>\n",
       "      <td>17000000</td>\n",
       "      <td>17000000</td>\n",
       "      <td>2021 UFA</td>\n",
       "      <td>0.045567</td>\n",
       "      <td>0.500000</td>\n",
       "    </tr>\n",
       "    <tr>\n",
       "      <th>...</th>\n",
       "      <td>...</td>\n",
       "      <td>...</td>\n",
       "      <td>...</td>\n",
       "      <td>...</td>\n",
       "      <td>...</td>\n",
       "      <td>...</td>\n",
       "      <td>...</td>\n",
       "      <td>...</td>\n",
       "      <td>...</td>\n",
       "      <td>...</td>\n",
       "      <td>...</td>\n",
       "    </tr>\n",
       "    <tr>\n",
       "      <th>5059</th>\n",
       "      <td>wide-receiver</td>\n",
       "      <td>Austin Carr</td>\n",
       "      <td>Saints</td>\n",
       "      <td>26</td>\n",
       "      <td>1672500</td>\n",
       "      <td>557500</td>\n",
       "      <td>30000</td>\n",
       "      <td>30000</td>\n",
       "      <td>2020 RFA</td>\n",
       "      <td>0.002989</td>\n",
       "      <td>0.017937</td>\n",
       "    </tr>\n",
       "    <tr>\n",
       "      <th>5080</th>\n",
       "      <td>wide-receiver</td>\n",
       "      <td>Dan Arnold</td>\n",
       "      <td>Saints</td>\n",
       "      <td>24</td>\n",
       "      <td>1665000</td>\n",
       "      <td>555000</td>\n",
       "      <td>0</td>\n",
       "      <td>0</td>\n",
       "      <td>2020 RFA</td>\n",
       "      <td>0.002975</td>\n",
       "      <td>0.000000</td>\n",
       "    </tr>\n",
       "    <tr>\n",
       "      <th>5173</th>\n",
       "      <td>wide-receiver</td>\n",
       "      <td>Keith Kirkwood</td>\n",
       "      <td>Saints</td>\n",
       "      <td>25</td>\n",
       "      <td>1050000</td>\n",
       "      <td>525000</td>\n",
       "      <td>0</td>\n",
       "      <td>0</td>\n",
       "      <td>2020 ERFA</td>\n",
       "      <td>0.002814</td>\n",
       "      <td>0.000000</td>\n",
       "    </tr>\n",
       "    <tr>\n",
       "      <th>5175</th>\n",
       "      <td>wide-receiver</td>\n",
       "      <td>Simmie Cobbs Jr.</td>\n",
       "      <td>Saints</td>\n",
       "      <td>24</td>\n",
       "      <td>1050000</td>\n",
       "      <td>525000</td>\n",
       "      <td>0</td>\n",
       "      <td>0</td>\n",
       "      <td>2020 ERFA</td>\n",
       "      <td>0.002814</td>\n",
       "      <td>0.000000</td>\n",
       "    </tr>\n",
       "    <tr>\n",
       "      <th>5193</th>\n",
       "      <td>wide-receiver</td>\n",
       "      <td>Travin Dural</td>\n",
       "      <td>Saints</td>\n",
       "      <td>26</td>\n",
       "      <td>105000</td>\n",
       "      <td>525000</td>\n",
       "      <td>0</td>\n",
       "      <td>0</td>\n",
       "      <td>2020 ERFA</td>\n",
       "      <td>0.002814</td>\n",
       "      <td>0.000000</td>\n",
       "    </tr>\n",
       "  </tbody>\n",
       "</table>\n",
       "<p>78 rows × 11 columns</p>\n",
       "</div>"
      ],
      "text/plain": [
       "                  position            player    team  age  total_value  \\\n",
       "28            right-tackle      Ryan Ramczyk  Saints   25      8891810   \n",
       "132           right-tackle       Michael Ola  Saints   31       805000   \n",
       "203   4-3-defensive-tackle      Malcom Brown  Saints   25     15000000   \n",
       "207         defensive-line    Cameron Jordan  Saints   30     55000000   \n",
       "239            right-guard     Larry Warford  Saints   28     34000000   \n",
       "...                    ...               ...     ...  ...          ...   \n",
       "5059         wide-receiver       Austin Carr  Saints   26      1672500   \n",
       "5080         wide-receiver        Dan Arnold  Saints   24      1665000   \n",
       "5173         wide-receiver    Keith Kirkwood  Saints   25      1050000   \n",
       "5175         wide-receiver  Simmie Cobbs Jr.  Saints   24      1050000   \n",
       "5193         wide-receiver      Travin Dural  Saints   26       105000   \n",
       "\n",
       "      avg_year  total_guaranteed  fully_guaranteed free_agency  \\\n",
       "28     2222953           7432291           7432291    2021 UFA   \n",
       "132     805000                 0                 0    2020 UFA   \n",
       "203    5000000           5500000           7500000    2022 UFA   \n",
       "207   11000000          33469000          22969000    2021 UFA   \n",
       "239    8500000          17000000          17000000    2021 UFA   \n",
       "...        ...               ...               ...         ...   \n",
       "5059    557500             30000             30000    2020 RFA   \n",
       "5080    555000                 0                 0    2020 RFA   \n",
       "5173    525000                 0                 0   2020 ERFA   \n",
       "5175    525000                 0                 0   2020 ERFA   \n",
       "5193    525000                 0                 0   2020 ERFA   \n",
       "\n",
       "      saints_salary_percent  saints_percent_fully_guaranteed  \n",
       "28                 0.011917                         0.835858  \n",
       "132                0.004315                         0.000000  \n",
       "203                0.026804                         0.500000  \n",
       "207                0.058969                         0.417618  \n",
       "239                0.045567                         0.500000  \n",
       "...                     ...                              ...  \n",
       "5059               0.002989                         0.017937  \n",
       "5080               0.002975                         0.000000  \n",
       "5173               0.002814                         0.000000  \n",
       "5175               0.002814                         0.000000  \n",
       "5193               0.002814                         0.000000  \n",
       "\n",
       "[78 rows x 11 columns]"
      ]
     },
     "execution_count": 23,
     "metadata": {},
     "output_type": "execute_result"
    }
   ],
   "source": [
    "# What percentage of the Saints players' contracts are 'fully' guaranteed?\n",
    "\n",
    "saints['saints_percent_fully_guaranteed'] = saints['fully_guaranteed']/saints['total_value']\n",
    "saints"
   ]
  },
  {
   "cell_type": "code",
   "execution_count": 24,
   "metadata": {},
   "outputs": [
    {
     "data": {
      "image/png": "[encoded data removed]",
      "text/plain": [
       "<Figure size 1080x936 with 1 Axes>"
      ]
     },
     "metadata": {
      "needs_background": "light"
     },
     "output_type": "display_data"
    }
   ],
   "source": [
    "# Visualize\n",
    "\n",
    "fig, ax = plt.subplots(figsize = (15,13))\n",
    "labels_2 = saints['player']\n",
    "values_2 = saints['saints_percent_fully_guaranteed']\n",
    "\n",
    "plt.barh(labels_2, values_2)\n",
    "plt.show()"
   ]
  },
  {
   "cell_type": "markdown",
   "metadata": {},
   "source": [
    "These last two graphs are examples of visualizing categorical data, which in this case was the salary of each player(who represent categories). Next, I want to visualize the distribution of the Saints players' yearly deals through a histogram (numerical)"
   ]
  },
  {
   "cell_type": "code",
   "execution_count": 25,
   "metadata": {},
   "outputs": [
    {
     "name": "stdout",
     "output_type": "stream",
     "text": [
      "525000\n",
      "25000000\n",
      "2391503.2435897435\n",
      "799473.5\n"
     ]
    }
   ],
   "source": [
    "print(saints['avg_year'].min())\n",
    "print(saints['avg_year'].max())\n",
    "print(saints['avg_year'].mean())\n",
    "print(saints['avg_year'].median())"
   ]
  },
  {
   "cell_type": "code",
   "execution_count": 26,
   "metadata": {},
   "outputs": [
    {
     "data": {
      "text/plain": [
       "array([       0,  1000000,  2000000,  3000000,  4000000,  5000000,\n",
       "        6000000,  7000000,  8000000,  9000000, 10000000, 11000000,\n",
       "       12000000, 13000000, 14000000, 15000000, 16000000, 17000000,\n",
       "       18000000, 19000000, 20000000, 21000000, 22000000, 23000000,\n",
       "       24000000, 25000000])"
      ]
     },
     "execution_count": 26,
     "metadata": {},
     "output_type": "execute_result"
    }
   ],
   "source": [
    "bins = np.arange(0, 26000000, 1000000)\n",
    "bins"
   ]
  },
  {
   "cell_type": "code",
   "execution_count": 27,
   "metadata": {},
   "outputs": [
    {
     "data": {
      "image/png": "[encoded data removed]",
      "text/plain": [
       "<Figure size 1080x432 with 1 Axes>"
      ]
     },
     "metadata": {
      "needs_background": "light"
     },
     "output_type": "display_data"
    }
   ],
   "source": [
    "fig, ax = plt.subplots(figsize = (15,6))\n",
    "plt.hist(saints['avg_year'], bins = bins)\n",
    "plt.xlabel('Salary')\n",
    "plt.ylabel('# of Players')\n",
    "plt.show()"
   ]
  },
  {
   "cell_type": "markdown",
   "metadata": {},
   "source": [
    "#### Explore 'Age'"
   ]
  },
  {
   "cell_type": "code",
   "execution_count": 28,
   "metadata": {},
   "outputs": [
    {
     "data": {
      "text/plain": [
       "count    2868.000000\n",
       "mean      182.179219\n",
       "std       540.278799\n",
       "min         0.000000\n",
       "25%        24.000000\n",
       "50%        25.000000\n",
       "75%        28.000000\n",
       "max      2020.000000\n",
       "Name: age, dtype: float64"
      ]
     },
     "execution_count": 28,
     "metadata": {},
     "output_type": "execute_result"
    }
   ],
   "source": [
    "df['age'].describe()"
   ]
  },
  {
   "cell_type": "code",
   "execution_count": 29,
   "metadata": {},
   "outputs": [
    {
     "data": {
      "text/plain": [
       "team\n",
       "49ers          69.528736\n",
       "Bears          45.544444\n",
       "Bengals       239.597826\n",
       "Bills         224.000000\n",
       "Broncos       134.655556\n",
       "Browns         68.055556\n",
       "Buccaneers    386.204545\n",
       "Cardinals     297.758621\n",
       "Chargers      461.989011\n",
       "Chiefs        284.769231\n",
       "Colts          24.566667\n",
       "Cowboys       311.211111\n",
       "Dolphins      388.376344\n",
       "Eagles        248.775281\n",
       "Falcons       352.472527\n",
       "Giants         67.733333\n",
       "Jaguars        67.946237\n",
       "Jets          392.739130\n",
       "Lions         294.590909\n",
       "Packers       134.876404\n",
       "Panthers      112.449438\n",
       "Patriots       24.153846\n",
       "Raiders        23.758242\n",
       "Rams          426.651685\n",
       "Ravens         88.228261\n",
       "Redskins       89.488889\n",
       "Saints        202.987179\n",
       "Seahawks       22.229885\n",
       "Steelers      152.670330\n",
       "Texans        113.241758\n",
       "Titans         25.613636\n",
       "Vikings        47.655556\n",
       "Name: age, dtype: float64"
      ]
     },
     "execution_count": 29,
     "metadata": {},
     "output_type": "execute_result"
    }
   ],
   "source": [
    "# Average age by team\n",
    "\n",
    "avg_age_team = df.groupby('team')['age'].mean()\n",
    "avg_age_team"
   ]
  },
  {
   "cell_type": "code",
   "execution_count": 30,
   "metadata": {},
   "outputs": [
    {
     "data": {
      "image/png": "[encoded data removed]",
      "text/plain": [
       "<Figure size 720x576 with 1 Axes>"
      ]
     },
     "metadata": {
      "needs_background": "light"
     },
     "output_type": "display_data"
    }
   ],
   "source": [
    "# We are getting weird values. Lets look at the distribtution of all ages through a box and whiskers first\n",
    "\n",
    "fig, ax = plt.subplots(figsize = (10,8))\n",
    "plt.boxplot(df['age'], medianprops = {'linewidth' : 1.0})\n",
    "plt.show()"
   ]
  },
  {
   "cell_type": "markdown",
   "metadata": {},
   "source": [
    "The outliers in this plot are making it very hard to look at the rest of the data. Let's make a new plot that does not include these values above 250"
   ]
  },
  {
   "cell_type": "code",
   "execution_count": 31,
   "metadata": {},
   "outputs": [
    {
     "data": {
      "image/png": "[encoded data removed]",
      "text/plain": [
       "<Figure size 864x864 with 1 Axes>"
      ]
     },
     "metadata": {
      "needs_background": "light"
     },
     "output_type": "display_data"
    }
   ],
   "source": [
    "fig, ax = plt.subplots(figsize = (12,12))\n",
    "ax.boxplot(df['age'], showfliers = False, medianprops = {'linewidth' : 1.0}) # Showfliers = False takes care of removing the outliers\n",
    "\n",
    "plt.xlabel('Players', fontdict = {'fontsize': 16})\n",
    "plt.ylabel('Age', fontdict = {'fontsize': 16})\n",
    "plt.title('Age Distribution of NFL Players (minus outliers)', fontdict = {'fontsize': 20, 'fontweight': 'bold'})\n",
    "plt.style.use('ggplot')\n",
    "plt.show()"
   ]
  }
 ],
 "metadata": {
  "kernelspec": {
   "display_name": "Python 3",
   "language": "python",
   "name": "python3"
  },
  "language_info": {
   "codemirror_mode": {
    "name": "ipython",
    "version": 3
   },
   "file_extension": ".py",
   "mimetype": "text/x-python",
   "name": "python",
   "nbconvert_exporter": "python",
   "pygments_lexer": "ipython3",
   "version": "3.7.6"
  },
  "varInspector": {
   "cols": {
    "lenName": 16,
    "lenType": 16,
    "lenVar": 40
   },
   "kernels_config": {
    "python": {
     "delete_cmd_postfix": "",
     "delete_cmd_prefix": "del ",
     "library": "var_list.py",
     "varRefreshCmd": "print(var_dic_list())"
    },
    "r": {
     "delete_cmd_postfix": ") ",
     "delete_cmd_prefix": "rm(",
     "library": "var_list.r",
     "varRefreshCmd": "cat(var_dic_list()) "
    }
   },
   "types_to_exclude": [
    "module",
    "function",
    "builtin_function_or_method",
    "instance",
    "_Feature"
   ],
   "window_display": false
  }
 },
 "nbformat": 4,
 "nbformat_minor": 4
}
